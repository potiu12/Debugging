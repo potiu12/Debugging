{
 "cells": [
  {
   "cell_type": "code",
   "execution_count": null,
   "id": "54d65abe-4a1e-4ff1-ad8e-ed582377c8a4",
   "metadata": {},
   "outputs": [],
   "source": [
    "\"\"\"1.a\n",
    "Using the print() function only, get the wrong_add_function to print out where\n",
    "it is making a mistake, given the expected output for ex, \"we are making an error \n",
    "in the loop\", which you would put near the loop. \n",
    "Structure the print() statement to show what the expected output ought to be\n",
    "via f-strings: ie \"The correct answer is supposed to be: [...]\".\"\"\""
   ]
  },
  {
   "cell_type": "code",
   "execution_count": 27,
   "id": "69551fae-b0e9-46ec-a0d4-290ac4ece9da",
   "metadata": {},
   "outputs": [
    {
     "name": "stdout",
     "output_type": "stream",
     "text": [
      "Processing index 0, arg1: 1, expected result: 2\n",
      "We are making an error in the loop.\n",
      "Summing elements: [2, 2, 2]\n",
      "Summing elements: [2, 2, 2]\n",
      "Summing elements: [2, 2, 2]\n",
      "Processing index 1, arg1: 2, expected result: 3\n",
      "We are making an error in the loop.\n",
      "Summing elements: [3, 3, 3]\n",
      "Summing elements: [3, 3, 3]\n",
      "Summing elements: [3, 3, 3]\n",
      "Processing index 2, arg1: 3, expected result: 4\n",
      "We are making an error in the loop.\n",
      "Summing elements: [4, 4, 4]\n",
      "Summing elements: [4, 4, 4]\n",
      "Summing elements: [4, 4, 4]\n"
     ]
    },
    {
     "data": {
      "text/plain": [
       "[6, 9, 12]"
      ]
     },
     "execution_count": 27,
     "metadata": {},
     "output_type": "execute_result"
    }
   ],
   "source": [
    "arg1 = [1, 2, 3]\n",
    "arg2 = [1, 1, 1]\n",
    "def wrong_add_function(arg1, arg2):\n",
    "    arg1_index = 0\n",
    "    while arg1_index < len(arg1):\n",
    "        arg_2_sum = 0\n",
    "        \n",
    "        print(f\"Processing index {arg1_index}, arg1: {arg1[arg1_index]}, expected result: {arg1[arg1_index] + arg2[arg1_index]}\")\n",
    "       \n",
    "        print(\"We are making an error in the loop.\")\n",
    "        for arg2_elements in arg2:\n",
    "            print(f\"Summing elements: {[arg1[arg1_index] + i for i in arg2]}\")\n",
    "            arg_2_sum = sum([arg1[arg1_index] + i for i in arg2])  #It sums the entire list for each arg1 element, leading \n",
    "            #to incorrect results like 6, 9, and 12, instead of the expected values like 2, 3, and 4. \n",
    "            #If arg1[0] = 1 and arg2 = [1, 1, 1], the list will be [2, 2, 2] because 1 + 1 = 2 is computed for each element of arg2.\n",
    "            #For arg1[1] = 2 and arg2 = [1, 1, 1], you get [3, 3, 3] and the sum is 9 (instead of 3).\n",
    "            #For arg1[2] = 3 and arg2 = [1, 1, 1], you get [4, 4, 4] and the sum is 12 (instead of 4).\n",
    "\n",
    "        \n",
    "        arg1[arg1_index] = arg_2_sum  \n",
    "        arg1_index += 1\n",
    "\n",
    "    return arg1\n",
    "wrong_add_function(arg1, arg2) "
   ]
  },
  {
   "cell_type": "code",
   "execution_count": null,
   "id": "47788f89-d72d-467b-97f6-88058041572a",
   "metadata": {},
   "outputs": [],
   "source": [
    "'''1.b\n",
    "Then, changing as little as possible, modify the function, using the same \n",
    "general structure to output the correct answer. Call this new function \n",
    "correct_add_function()"
   ]
  },
  {
   "cell_type": "code",
   "execution_count": 23,
   "id": "c1fe8cc6-06e0-44ef-81a6-1a7703f460b2",
   "metadata": {},
   "outputs": [
    {
     "data": {
      "text/plain": [
       "[2, 3, 4]"
      ]
     },
     "execution_count": 23,
     "metadata": {},
     "output_type": "execute_result"
    }
   ],
   "source": [
    "arg1 = [1, 2, 3]\n",
    "arg2 = [1, 1, 1]\n",
    "\n",
    "def correct_add_function(arg1, arg2):\n",
    "   arg1_index=0\n",
    "   while arg1_index < len(arg1):\n",
    "      arg_2_sum = 0\n",
    "      for arg2_elements in arg2:\n",
    "         arg_2_sum = sum([arg1[arg1_index]+arg2[arg1_index]]) #only change\n",
    "      arg1[arg1_index]=arg_2_sum  \n",
    "      arg1_index+=1\n",
    "   return arg1\n",
    "\n",
    "correct_add_function(arg1, arg2)"
   ]
  },
  {
   "cell_type": "code",
   "execution_count": null,
   "id": "002d277b-2dbe-4104-8a65-d685ee83af37",
   "metadata": {},
   "outputs": [],
   "source": [
    "'''2.a\n",
    "Update the numeric section of the function with your changes from 1 for both \n",
    "2.b and 2.c\n",
    "\n",
    "2.b\n",
    "Without modifying the string section code itself or the input directly, \n",
    "write a try, except block that catches the issue with the input below and \n",
    "returns an error message to the user, in case users give invalid inputs,\n",
    "(for example an input of [\"5\",\"2\", 5])\n",
    ": \"Your input argument [1 or 2] at element [n]\n",
    "is not of the expected type. Please change this and rerun. Name this function \n",
    "exception_add_function()\n",
    "\n",
    "2.c\n",
    "Without modifying the string section code itself or the input directly, \n",
    "write a try, except block that catches the issue with the input below and \n",
    "gets it to process via the string section. IE, do not, outside the function,\n",
    "change the values of arg_str_1 or arg_str_2. Name this function \n",
    "correction_add_function(), i.e you will not be updating the wrong_add_function,\n",
    "you will simply handle the error of wrong inputs in a seperate function, you want\n",
    "the wrong_add_function to output its current result you are only bolstering the \n",
    "function for edge cases ."
   ]
  },
  {
   "cell_type": "code",
   "execution_count": 175,
   "id": "89b033d3-b038-4702-843f-15c224b91b77",
   "metadata": {},
   "outputs": [
    {
     "name": "stdout",
     "output_type": "stream",
     "text": [
      "Running exception_add_function:\n",
      "Error: Input lists must be either all integers or all strings.\n",
      "Running correction_add_function:\n",
      "Correcting input types to strings without modifying the original inputs...\n",
      "The corrected output is: ['1111', '2111', '3111']\n"
     ]
    }
   ],
   "source": [
    "def wrong_add_function(arg1, arg2):\n",
    "    # numeric section\n",
    "    if sum([type(i) == int for i in arg1]) == len(arg1) and \\\n",
    "       sum([type(i) == int for i in arg2]) == len(arg2):\n",
    "        arg1_index = 0\n",
    "        while arg1_index < len(arg1):\n",
    "            # Adding 1.b code\n",
    "            arg1[arg1_index] = arg1[arg1_index] + arg2[arg1_index]\n",
    "            arg1_index += 1\n",
    "        return arg1\n",
    "    # string section\n",
    "    elif sum([type(i) == str for i in arg1]) == len(arg1) and \\\n",
    "         sum([type(i) == str for i in arg2]) == len(arg2):\n",
    "        arg1_index = 0\n",
    "        while arg1_index < len(arg1):\n",
    "            arg_2_sum = ''\n",
    "            for arg2_elements in arg2:\n",
    "                arg_2_sum += arg2_elements\n",
    "            arg1[arg1_index] = arg1[arg1_index] + str(arg_2_sum)\n",
    "            arg1_index += 1\n",
    "        return arg1\n",
    "    else:\n",
    "        raise TypeError(\"Input lists must be either all integers or all strings.\")\n",
    "        #print(\"Input lists must be either all integers or all strings.\")\n",
    "\n",
    "arg_str_1=['1','2','3']\n",
    "arg_str_2=['1','1', 1]\n",
    "#wrong_add_function(arg_str_1,arg_str_2)\n",
    "\n",
    "def exception_add_function(arg1, arg2):\n",
    "    try:\n",
    "        return wrong_add_function(arg1, arg2)\n",
    "    except TypeError as e:\n",
    "        # Catch type errors and provide a meaningful message\n",
    "        print(f\"Error: {e}\")\n",
    "        # Check which argument has the wrong type\n",
    "        for i, val in enumerate(arg1):    #This loop runs through the list arg1, giving both the index (i) and the value (val) at each step.\n",
    "            if not isinstance(val, (int, str)):  #This checks if val is not an integer or a string. If val is of a type other than int or str, it will trigger the following print statement.\n",
    "                print(f\"Your input argument 1 at element {i} is not of the expected type. Please change this and rerun.\")\n",
    "        for i, val in enumerate(arg2):\n",
    "            if not isinstance(val, (int, str)):\n",
    "                print(f\"Your input argument 2 at element {i} is not of the expected type. Please change this and rerun.\")\n",
    "        return None\n",
    "\n",
    "def correction_add_function(arg1, arg2):\n",
    "    try:\n",
    "        # Attempt to run wrong_add_function\n",
    "        return wrong_add_function(arg1, arg2)\n",
    "    except TypeError:\n",
    "        # If a TypeError occurs, convert all elements to strings and rerun\n",
    "        print(\"Correcting input types to strings without modifying the original inputs...\")\n",
    "        arg1_s = [str(i) for i in arg1]  # Create a copy of the list and convert to strings\n",
    "        arg2_s = [str(i) for i in arg2]  \n",
    "        # Now rerun wrong_add_function with corrected input copies\n",
    "        return wrong_add_function(arg1_s, arg2_s)\n",
    "\n",
    "arg_str_1 = ['1', '2', '3']\n",
    "arg_str_2 = ['1', '1', 1] \n",
    "\n",
    "\n",
    "print(\"Running exception_add_function:\")\n",
    "exception_add_function(arg_str_1, arg_str_2)\n",
    "\n",
    "print(\"Running correction_add_function:\")\n",
    "corrected_output = correction_add_function(arg_str_1, arg_str_2)\n",
    "print(f\"The corrected output is: {corrected_output}\")\n"
   ]
  },
  {
   "cell_type": "code",
   "execution_count": null,
   "id": "e8850c03-8977-4feb-be80-07c3539b4d12",
   "metadata": {},
   "outputs": [],
   "source": []
  },
  {
   "cell_type": "code",
   "execution_count": null,
   "id": "57386831-e674-4464-b8d2-1d4e680f9a98",
   "metadata": {},
   "outputs": [],
   "source": []
  },
  {
   "cell_type": "code",
   "execution_count": null,
   "id": "30ed8bbb-d0f1-43ef-bacd-a5c9a686edbd",
   "metadata": {},
   "outputs": [],
   "source": []
  },
  {
   "cell_type": "code",
   "execution_count": null,
   "id": "12a46eb9-4d47-4de6-9df8-357fc05782c3",
   "metadata": {},
   "outputs": [],
   "source": []
  },
  {
   "cell_type": "code",
   "execution_count": null,
   "id": "f86774c4-a8d2-4d63-a644-ebbbba272d0e",
   "metadata": {},
   "outputs": [],
   "source": []
  }
 ],
 "metadata": {
  "kernelspec": {
   "display_name": "Python 3 (ipykernel)",
   "language": "python",
   "name": "python3"
  },
  "language_info": {
   "codemirror_mode": {
    "name": "ipython",
    "version": 3
   },
   "file_extension": ".py",
   "mimetype": "text/x-python",
   "name": "python",
   "nbconvert_exporter": "python",
   "pygments_lexer": "ipython3",
   "version": "3.12.4"
  }
 },
 "nbformat": 4,
 "nbformat_minor": 5
}
